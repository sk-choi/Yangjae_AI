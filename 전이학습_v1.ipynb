{
  "nbformat": 4,
  "nbformat_minor": 0,
  "metadata": {
    "colab": {
      "name": "전이학습-v1.ipynb",
      "provenance": [],
      "collapsed_sections": [],
      "authorship_tag": "ABX9TyOivYgLEztPysWYgKKwk/Lk",
      "include_colab_link": true
    },
    "kernelspec": {
      "name": "python3",
      "display_name": "Python 3"
    },
    "language_info": {
      "name": "python"
    }
  },
  "cells": [
    {
      "cell_type": "markdown",
      "metadata": {
        "id": "view-in-github",
        "colab_type": "text"
      },
      "source": [
        "<a href=\"https://colab.research.google.com/github/sk-choi/Yangjae_AI/blob/main/%EC%A0%84%EC%9D%B4%ED%95%99%EC%8A%B5_v1.ipynb\" target=\"_parent\"><img src=\"https://colab.research.google.com/assets/colab-badge.svg\" alt=\"Open In Colab\"/></a>"
      ]
    },
    {
      "cell_type": "code",
      "execution_count": null,
      "metadata": {
        "id": "McX--XhnNqO1"
      },
      "outputs": [],
      "source": [
        "import tensorflow as tf\n",
        "from tensorflow.keras import layers, Sequential\n",
        "from tensorflow.keras.optimizers import Adam\n",
        "from tensorflow.keras.applications.resnet50 import ResNet50\n",
        "from tensorflow.keras.utils import to_categorical\n",
        "import numpy as np\n",
        "import pandas as pd\n"
      ]
    },
    {
      "cell_type": "code",
      "source": [
        "#불러오는 함수 load_transfer\n",
        "def load_transfer_model():\n",
        "  #base_model에 모델 불러오기, input_shape = (96, 96, 3) #cifar10데이터에 적합한 값\n",
        "  #include_top = False, weights = 'imagenet'\n",
        "  base_model = ResNet50(input_shape = (84,84,3), include_top = False, weights = 'imagenet')#(96,96,3)에서 (84,84,1)으로 변경\n",
        "  #base_model이 훈련 가능하지 않게 설정\n",
        "  base_model.trainable = False\n",
        "  num_classes = 10\n",
        "  #layer를 앞뒤로 추가해줍니다.\n",
        "  transfer_model = Sequential([\n",
        "        layers.UpSampling2D(size = (3,3), interpolation = 'bilinear'),#size =  ,interpolation = \n",
        "        base_model,\n",
        "        layers.GlobalAveragePooling2D(),\n",
        "        layers.Dense(num_classes, activation = 'softmax')\n",
        "  ])\n",
        "  return transfer_model\n",
        "  #교수님이 권장하는 방법은 input_shape를 조절하는 것이다."
      ],
      "metadata": {
        "id": "ROIyESrwQXzC"
      },
      "execution_count": null,
      "outputs": []
    },
    {
      "cell_type": "code",
      "source": [
        "#include_top을 True로 수정, input_shape를 (224, 224, 3)으로 수정\n",
        "\n",
        "#rgb채널에는 채널 이름이 있는 것이 아닌 위치만 주어져 있다.\n",
        "#밝기정보만 주어져있기에 위치에 따라 레드, 블루, 그린이라고 볼 수 있다.\n",
        "#그래서 위의 정보를 레드정보라고 생각할 수 있다.\n",
        "#그렇기에 레드, 블루, 그린 각각의 정보를 연결해보는 걸 시도해 볼 수 있다."
      ],
      "metadata": {
        "id": "ud8mSn9MazwZ"
      },
      "execution_count": null,
      "outputs": []
    },
    {
      "cell_type": "code",
      "source": [
        "def main(transfer_model = None, epochs = 3):\n",
        "  #원본 코드는 cifar10 데이터 셋을 내장했었습니다. 그런데 우리는 fashion_mnist에 적용해볼겁니다.\n",
        "  dataloader = tf.keras.datasets.fashion_mnist #(x_train, y_train), (x_test, y_test)\n",
        "  (x_train, y_train), (x_test, y_test) = dataloader.load_data()\n",
        "  x_train, y_train, x_test, y_test = x_train[:5000], y_train[:5000], x_test[:5000], y_test[:5000]\n",
        "  \n",
        "  x_train_reshape = x_train.reshape(-1,28,28,1)\n",
        "  # x_train = np.expand_dims(x_train, -1) #데이터 크기가 (28,28)이면 뒤에 rgb정보가 들어있다\n",
        "  # x_test = np.expand_dims(x_test, -1)\n",
        "  x_train_red = x_train_reshape.copy()\n",
        "  x_train_green = x_train_reshape.copy()\n",
        "  x_train_blue = x_train_reshape.copy()\n",
        "  \n",
        "  x = np.block([x_train_red, x_train_green, x_train_blue])\n",
        "\n",
        "  one_hot = to_categorical(y_train, 10)\n",
        "  print('x_train.shape', x_train_reshape.shape)\n",
        "  print('y_train.shape', y_train.shape)\n",
        "  print('x', x.shape)\n",
        "  print('one_hot', one_hot)\n",
        "  #transfer_model 없을 땐 불러오고, 있으면 넘어가는 코드 만들기\n",
        "  \n",
        "  if transfer_model is None:\n",
        "    transfer_model = load_transfer_model()\n",
        "  #optimizer, loss, metrics 지정\n",
        "  optimizer = Adam(learning_rate = 0.001)\n",
        "  transfer_model.compile(optimizer = optimizer, loss = 'categorical_crossentropy', metrics = ['acc'])\n",
        "\n",
        "  #모델을 학습\n",
        "  hist = transfer_model.fit(x, one_hot, epochs = epochs, batch_size = 500)\n",
        "  #완성된 모델 확인 summary\n",
        "  transfer_model.summary\n",
        "\n",
        "\n",
        "  #테스트 데이터로 모델 최종 성능 evaluate\n",
        "  loss, accuracy = transfer_model.evaluate(x, one_hot)#변수 이름 바꾸기 x, one_hot\n",
        "  print('accuracy: ', accuracy * 100)\n",
        "\n",
        "main()"
      ],
      "metadata": {
        "colab": {
          "base_uri": "https://localhost:8080/"
        },
        "id": "CpfgHGjNOwh8",
        "outputId": "7bed0496-cb3b-427c-b456-1fbf798c6c98"
      },
      "execution_count": null,
      "outputs": [
        {
          "output_type": "stream",
          "name": "stdout",
          "text": [
            "x_train.shape (5000, 28, 28, 1)\n",
            "y_train.shape (5000,)\n",
            "x (5000, 28, 28, 3)\n",
            "one_hot [[0. 0. 0. ... 0. 0. 1.]\n",
            " [1. 0. 0. ... 0. 0. 0.]\n",
            " [1. 0. 0. ... 0. 0. 0.]\n",
            " ...\n",
            " [0. 0. 0. ... 0. 0. 0.]\n",
            " [0. 0. 0. ... 0. 1. 0.]\n",
            " [0. 0. 0. ... 0. 0. 0.]]\n",
            "Epoch 1/3\n",
            "10/10 [==============================] - 119s 11s/step - loss: 2.1406 - acc: 0.3360\n",
            "Epoch 2/3\n",
            "10/10 [==============================] - 112s 11s/step - loss: 0.8670 - acc: 0.7136\n",
            "Epoch 3/3\n",
            "10/10 [==============================] - 117s 12s/step - loss: 0.6374 - acc: 0.7806\n",
            "157/157 [==============================] - 123s 773ms/step - loss: 0.5726 - acc: 0.7992\n",
            "79.91999983787537\n"
          ]
        }
      ]
    }
  ]
}