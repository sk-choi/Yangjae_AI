{
  "nbformat": 4,
  "nbformat_minor": 0,
  "metadata": {
    "colab": {
      "name": "VGG-11_만들기.ipynb",
      "provenance": [],
      "collapsed_sections": [],
      "authorship_tag": "ABX9TyO6x0hEwJCJVEOseNQiof8i",
      "include_colab_link": true
    },
    "kernelspec": {
      "name": "python3",
      "display_name": "Python 3"
    },
    "language_info": {
      "name": "python"
    }
  },
  "cells": [
    {
      "cell_type": "markdown",
      "metadata": {
        "id": "view-in-github",
        "colab_type": "text"
      },
      "source": [
        "<a href=\"https://colab.research.google.com/github/sk-choi/Yangjae_AI/blob/main/VGG_11_%EB%A7%8C%EB%93%A4%EA%B8%B0.ipynb\" target=\"_parent\"><img src=\"https://colab.research.google.com/assets/colab-badge.svg\" alt=\"Open In Colab\"/></a>"
      ]
    },
    {
      "cell_type": "code",
      "execution_count": 2,
      "metadata": {
        "id": "xYZrV8-GN1Qk"
      },
      "outputs": [],
      "source": [
        "import os\n",
        "import tensorflow as tf\n",
        "from tensorflow.keras import layers, Sequential, Model, Input\n",
        "from tensorflow.keras.optimizers import Adam\n",
        "from tensorflow.keras.datasets import fashion_mnist\n",
        "from tensorflow.keras.utils import to_categorical\n",
        "\n",
        "import numpy as np"
      ]
    },
    {
      "cell_type": "code",
      "source": [
        "def load_fashion_mnist():\n",
        "    (X_train, y_train),(X_test, y_test) = fashion_mnist.load_data()\n",
        "\n",
        "    X_train = X_train/255.0\n",
        "    X_test = X_test/255.0\n",
        "    y_train = to_categorical(y_train, num_classes = 10)\n",
        "    y_test = to_categorical(y_test, num_classes = 10)\n",
        "\n",
        "    X_train = np.expand_dims(X_train, axis = -1)\n",
        "    X_test = np.expand_dims(X_test, axis = -1)\n",
        "    \n",
        "\n",
        "    return X_train, y_train, X_test, y_test"
      ],
      "metadata": {
        "id": "_x5p1qFGOm7S"
      },
      "execution_count": 3,
      "outputs": []
    },
    {
      "cell_type": "code",
      "source": [
        "def build_vgg_model(num_classes, input_shape):\n",
        "    model = Sequential()\n",
        "\n",
        "    model.add(layers.Conv2D(16, kernel_size =  (3,3), padding = 'same', activation = 'relu',input_shape = input_shape))\n",
        "    model.add(layers.MaxPool2D(pool_size = (2,2), strides = (2,2)))\n",
        "    model.add(layers.Conv2D(32, kernel_size = (3,3), padding = 'same', activation = 'relu'))\n",
        "    model.add(layers.MaxPool2D(pool_size= (2,2), strides = (2,2)))\n",
        "    model.add(layers.Conv2D(64, kernel_size = (3,3), padding = 'same', activation = 'relu'))\n",
        "\n",
        "    model.add(layers.Conv2D(64, kernel_size = (3,3), padding = 'same', activation = 'relu'))#\n",
        "    model.add(layers.Conv2D(128, kernel_size = (3,3), padding = 'same', activation = 'relu'))\n",
        "\n",
        "    model.add(layers.Conv2D(128, kernel_size = (3,3), padding = 'same', activation = 'relu'))#\n",
        "    model.add(layers.Conv2D(128, kernel_size = (3,3), padding = 'same', activation = 'relu'))\n",
        "\n",
        "    model.add(layers.Conv2D(128, kernel_size = (3,3), padding = 'same', activation = 'relu'))#\n",
        "    model.add(layers.MaxPool2D(pool_size = (2,2), strides = (2,2)))\n",
        "\n",
        "    model.add(layers.Flatten())\n",
        "    model.add(layers.Dense(32, activation = 'relu'))\n",
        "    model.add(layers.Dense(32, activation = 'relu'))\n",
        "    model.add(layers.Dense(num_classes, activation = 'softmax'))\n",
        "    return model"
      ],
      "metadata": {
        "id": "9M2vgfmbPTsF"
      },
      "execution_count": 4,
      "outputs": []
    },
    {
      "cell_type": "code",
      "source": [
        "def main(model = None, epochs = 2):\n",
        "    tf.random.set_seed(2022)\n",
        "    X_train, y_train, X_test, y_test = load_fashion_mnist()\n",
        "    num_classes = 10\n",
        "    input_shape = X_train[0].shape\n",
        "\n",
        "    if model is None:\n",
        "        model = build_vgg_model(num_classes, input_shape)\n",
        "\n",
        "    optimizer = Adam(learning_rate = 0.001)\n",
        "    model.compile(optimizer = optimizer, loss = 'categorical_crossentropy', metrics = 'accuracy')\n",
        "    hist = model.fit(X_train, y_train, epochs = epochs, batch_size = 64, validation_split = 0.2, shuffle = True, verbose = 1)\n",
        "\n",
        "    _, test_accuracy = model.evaluate(X_test, y_test)\n",
        "\n",
        "    print(f\"테스트 정확도: {test_accuracy * 100:.3f}%\")\n",
        "\n",
        "    return optimizer, hist, test_accuracy\n",
        "\n",
        "if __name__ == \"__main__\":\n",
        "    main()\n"
      ],
      "metadata": {
        "colab": {
          "base_uri": "https://localhost:8080/"
        },
        "id": "PzcSCr31Q4pI",
        "outputId": "13cf6607-be1e-45d9-d698-555cba751dba"
      },
      "execution_count": 8,
      "outputs": [
        {
          "output_type": "stream",
          "name": "stdout",
          "text": [
            "Epoch 1/2\n",
            "750/750 [==============================] - 244s 325ms/step - loss: 0.6150 - accuracy: 0.7727 - val_loss: 0.3877 - val_accuracy: 0.8608\n",
            "Epoch 2/2\n",
            "750/750 [==============================] - 242s 322ms/step - loss: 0.3453 - accuracy: 0.8726 - val_loss: 0.3217 - val_accuracy: 0.8802\n",
            "313/313 [==============================] - 13s 41ms/step - loss: 0.3320 - accuracy: 0.8782\n",
            "테스트 정확도: 87.820%\n"
          ]
        }
      ]
    },
    {
      "cell_type": "code",
      "source": [
        ""
      ],
      "metadata": {
        "id": "1DbaivCfhYO_"
      },
      "execution_count": 5,
      "outputs": []
    }
  ]
}