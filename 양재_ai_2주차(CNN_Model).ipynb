{
  "nbformat": 4,
  "nbformat_minor": 0,
  "metadata": {
    "colab": {
      "name": "양재 ai - 2주차(CNN_Model).ipynb",
      "provenance": [],
      "collapsed_sections": [],
      "authorship_tag": "ABX9TyPzgWmU5b0X9qifLOgOJhci",
      "include_colab_link": true
    },
    "kernelspec": {
      "name": "python3",
      "display_name": "Python 3"
    },
    "language_info": {
      "name": "python"
    }
  },
  "cells": [
    {
      "cell_type": "markdown",
      "metadata": {
        "id": "view-in-github",
        "colab_type": "text"
      },
      "source": [
        "<a href=\"https://colab.research.google.com/github/sk-choi/Yangjae_AI/blob/main/%EC%96%91%EC%9E%AC_ai_2%EC%A3%BC%EC%B0%A8(CNN_Model).ipynb\" target=\"_parent\"><img src=\"https://colab.research.google.com/assets/colab-badge.svg\" alt=\"Open In Colab\"/></a>"
      ]
    },
    {
      "cell_type": "code",
      "execution_count": null,
      "metadata": {
        "id": "fHF87Pw_ypZP"
      },
      "outputs": [],
      "source": [
        "#def load_function_mnist():\n",
        "#def build_cnn_model(num_classes, input_shape):\n",
        "#def plot_loss(hist):\n",
        "#def plot_accuracy(hist):\n",
        "#def main(cnn_model=None, epoch = 5):"
      ]
    },
    {
      "cell_type": "code",
      "source": [
        "import tensorflow as tf\n",
        "from tensorflow.keras.datasets import fashion_mnist\n",
        "from tensorflow.keras.utils import to_categorical\n",
        "from tensorflow.keras import Sequential\n",
        "from tensorflow.keras.layers import Conv2D, MaxPool2D\n",
        "from tensorflow.keras.layers import Flatten, Dense, Dropout\n",
        "from tensorflow.keras.layers import GlobalAveragePooling2D\n",
        "from tensorflow.keras import Sequential, Input\n",
        "from tensorflow.keras.optimizers import Adam\n",
        "import numpy as np"
      ],
      "metadata": {
        "id": "TBtqPwhZ0z8r"
      },
      "execution_count": null,
      "outputs": []
    },
    {
      "cell_type": "code",
      "source": [
        "def load_fashion_mnist():\n",
        "    (train_X, train_y), (test_X, test_y) = fashion_mnist.load_data()\n",
        "    #이미지 픽셀이 0-1이 되도록 정규화\n",
        "    train_X = train_X/255.0\n",
        "    test_X = test_X/255.0\n",
        "\n",
        "    #dims를 확장한다. 맨뒤에\n",
        "    train_X = np.expand_dims(train_X, axis = -1)\n",
        "    test_X = np.expand_dims(test_X, axis = -1)\n",
        "\n",
        "    #0-9레이블을 one-hot label로 바꾸기\n",
        "    train_y = to_categorical(train_y,num_classes = 10)\n",
        "    test_y = to_categorical(test_y, num_classes = 10)\n",
        "\n",
        "    return  train_X, train_y, test_X, test_y"
      ],
      "metadata": {
        "id": "T_axlD-Qy8nh"
      },
      "execution_count": null,
      "outputs": []
    },
    {
      "cell_type": "code",
      "source": [
        "# model = tf.keras.models.Sequential()\n",
        "# model.add(tf.keras.layers.Dense(1, input_shape = (1,)))\n",
        "\n",
        "def build_cnn_model(num_classes, input_shape):\n",
        "  model = Sequential()\n",
        "\n",
        "  model.add(Input(shape=input_shape))\n",
        "  model.add(Conv2D(32, (3,3), padding='same', activation = 'relu'))#뉴런의 개수와 필터의 개수,  패딩은 same으로, 인풋이 그대로\n",
        "  model.add(Conv2D(32, (3,3), padding='same', activation = 'relu'))\n",
        "  model.add(MaxPool2D())\n",
        "\n",
        "  model.add(Conv2D(32, (3,3), padding='same', activation = 'relu'))#뉴런의 개수와 필터의 개수,  패딩은 same으로, 인풋이 그대로\n",
        "  model.add(Conv2D(32, (3,3), padding='same', activation = 'relu'))\n",
        "  model.add(MaxPool2D())\n",
        "\n",
        "  model.add(Conv2D(32, (3,3), padding='same', activation = 'relu'))#뉴런의 개수와 필터의 개수,  패딩은 same으로, 인풋이 그대로\n",
        "  model.add(Conv2D(32, (3,3), padding='same', activation = 'relu'))\n",
        "  model.add(GlobalAveragePooling2D())\n",
        "\n",
        "  model.add(Dense(num_classes, activation = 'softmax'))\n",
        "\n",
        "  return model"
      ],
      "metadata": {
        "id": "F2ekaqcf455j"
      },
      "execution_count": null,
      "outputs": []
    },
    {
      "cell_type": "code",
      "source": [
        "\n",
        "# class fashion_mnist():\n",
        "#     def load_data(self):\n",
        "#       return "
      ],
      "metadata": {
        "id": "EbQYDAr00PI0"
      },
      "execution_count": null,
      "outputs": []
    },
    {
      "cell_type": "code",
      "source": [
        "def main(cnn_model = None, epochs = 5):\n",
        "  train_X, train_y, test_X, test_y = load_fashion_mnist()\n",
        "  print('train_y[0]', train_y[0])\n",
        "  print('train_X[0].shape', train_X[0].shape)\n",
        "  num_classes = len(train_y[0])\n",
        "  input_shape = train_X[0].shape\n",
        "  cnn_model = build_cnn_model(num_classes, input_shape)\n",
        "  cnn_model.compile(optimizer = Adam(learning_rate = 10**(-3)), loss = 'categorical_crossentropy', metrics = 'accuracy')\n",
        "\n",
        "  #모델의 optimizer, loss, matrics  컴파일\n",
        "\n",
        "  hist = cnn_model.fit(train_X, train_y, batch_size = 256, epochs = epochs, validation_split = 0.2, shuffle = True)\n",
        "  test_loss, test_accuracy = cnn_model.evaluate(test_X, test_y)\n",
        "  print(f\"테스트 정확도: {test_accuracy * 100:.3f}%\")\n",
        "main()"
      ],
      "metadata": {
        "colab": {
          "base_uri": "https://localhost:8080/"
        },
        "id": "hOOEh2TuzO8y",
        "outputId": "5d9867b7-5bd4-4931-acb8-aa4cae80c107"
      },
      "execution_count": null,
      "outputs": [
        {
          "output_type": "stream",
          "name": "stdout",
          "text": [
            "train_y[0] [0. 0. 0. 0. 0. 0. 0. 0. 0. 1.]\n",
            "train_X[0].shape (28, 28, 1)\n",
            "Epoch 1/5\n",
            "188/188 [==============================] - 143s 756ms/step - loss: 1.1080 - accuracy: 0.5987 - val_loss: 0.7466 - val_accuracy: 0.7272\n",
            "Epoch 2/5\n",
            "188/188 [==============================] - 141s 748ms/step - loss: 0.6805 - accuracy: 0.7481 - val_loss: 0.6218 - val_accuracy: 0.7682\n",
            "Epoch 3/5\n",
            "188/188 [==============================] - 145s 772ms/step - loss: 0.6031 - accuracy: 0.7766 - val_loss: 0.6260 - val_accuracy: 0.7710\n",
            "Epoch 4/5\n",
            "188/188 [==============================] - 141s 753ms/step - loss: 0.5568 - accuracy: 0.7936 - val_loss: 0.5179 - val_accuracy: 0.8139\n",
            "Epoch 5/5\n",
            "188/188 [==============================] - 142s 755ms/step - loss: 0.5255 - accuracy: 0.8065 - val_loss: 0.5197 - val_accuracy: 0.8059\n",
            "313/313 [==============================] - 9s 28ms/step - loss: 0.5389 - accuracy: 0.8012\n",
            "테스트 정확도: 80.120%\n"
          ]
        }
      ]
    },
    {
      "cell_type": "code",
      "source": [
        ""
      ],
      "metadata": {
        "id": "jWio_02U0NHa"
      },
      "execution_count": null,
      "outputs": []
    }
  ]
}